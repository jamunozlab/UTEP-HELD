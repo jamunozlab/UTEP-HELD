{
 "cells": [
  {
   "cell_type": "code",
   "execution_count": 1,
   "id": "9f1e4558-3ef9-451c-984e-ab631b9a31b2",
   "metadata": {},
   "outputs": [],
   "source": [
    "import time\n",
    "import os, sys\n",
    "import numpy as np \n",
    "start_time = time.time()\n",
    "# --------- HELD\n",
    "from utils.HELD import Force_Constants\n",
    "from utils.default_dict import *\n",
    "from utils.config import *\n",
    "\n",
    "# --------- Phonopy\n",
    "from utils.reorder_atoms_per_id import reorder_and_renumber_atoms\n",
    "from utils.poscar_gen import write_poscar\n",
    "from utils.dynmical_matrix_gen_phon import generate_force_constants_and_run_phonopy\n",
    "\n"
   ]
  },
  {
   "cell_type": "code",
   "execution_count": null,
   "id": "32754f66-44f8-4547-97a6-085fcb20de76",
   "metadata": {},
   "outputs": [
    {
     "name": "stdout",
     "output_type": "stream",
     "text": [
      "Now we are going to HELD together, simulation for your material begins for defect 0.1% lattice parameter: 2.81 Angs and temperature 200K\n"
     ]
    }
   ],
   "source": [
    "# --------- HELD\n",
    "for defect in vacancy_percents:\n",
    "    for temperature in range(n_temp_variations):\n",
    "        for lattice_parameter in range(m_lattice_variations):\n",
    "            lat_par = np.round(initial_lattice_parameter + 0.01 * lattice_parameter,2)\n",
    "            temp = initial_temperature + 100 * temperature  \n",
    "            box_length = lat_par * system_size\n",
    "            print(f'Now we are going to HELD together, simulation for your material begins for defect {defect}% lattice parameter: {lat_par} Angs and temperature {temp}K')\n",
    "            positions = np.zeros((natoms, 3, ntsteps))\n",
    "            forces = np.zeros((natoms, 3, ntsteps))\n",
    "\n",
    "\n",
    "            for t in range(ntsteps):\n",
    "                data = np.genfromtxt(simulations_path_vacancies + f'vacancy_{defect}%/'+ f\"NiTi_T_{temp}_L_{lat_par:.2f}/\"  + dump_file_root + str(t*50), delimiter=' ', skip_header=9)\n",
    "\n",
    "                for row in data:\n",
    "                    positions[int(row[0])-1, :, t] = row[2:5]\n",
    "                    forces[int(row[0])-1, :, t] = row[5:8]           \n",
    "            id_lattice = np.zeros((natoms, 3)) # id_lattice is the ideal underlying lattice\n",
    "            data = np.genfromtxt(simulations_path_vacancies + f'vacancy_{defect}%/'+ f\"NiTi_T_{temp}_L_{lat_par:.2f}/\"  +pos_file, delimiter=' ', skip_header=16)#, delimiter=' ', skip_header=11)\n",
    "\n",
    "            for row in data:\n",
    "                id_lattice[int(row[0])-1, :] = row[2:5]\n",
    "\n",
    "            # id_lattice = positions[:, :, 0]\n",
    "\n",
    "\n",
    "            out_path =simulations_path_vacancies + f'vacancy_{defect}%/'+ f\"NiTi_T_{temp}_L_{lat_par:.2f}/\"\n",
    "            bvk_fcc = Force_Constants(positions=positions, forces=forces,alat=box_length, ideal_lattice=id_lattice,out_path =out_path,lat_par = lat_par )\n",
    "            ideal_distances, ideal_dist_sca =bvk_fcc.ideal_lat_dist()\n",
    "            dictn = bvk_fcc.get_fc_steps(normal_fit=True)\n",
    "            \n",
    "            with open(out_path+fc_filename, 'w') as f:\n",
    "                for c in range(bvk_fcc.fc):\n",
    "                    print(bvk_fcc.index[c] + ', ', end='', file=f)\n",
    "\n",
    "                print('\\n', file=f)\n",
    "\n",
    "                for c in range(bvk_fcc.fc):\n",
    "                    print(str(dictn[bvk_fcc.index[c]]) + ', ', end='', file=f)\n",
    "\n",
    "                print('\\n', file=f)\n",
    "\n",
    "                for t in range(ntsteps):\n",
    "                    for c in range(bvk_fcc.fc):\n",
    "                        print(str(bvk_fcc.phiv_steps[c, t]) + ', ', end='', file=f)\n",
    "\n",
    "                    print('', file=f)\n",
    "            end_time = time.time()\n",
    "            mnt = int((end_time - start_time) / 60)\n",
    "            if mnt >= 60:\n",
    "                hr = int(mnt / 60)\n",
    "                mnt = int(mnt % 60)\n",
    "\n",
    "            else:\n",
    "                hr = 0\n",
    "\n",
    "            scn = int((end_time - start_time) % 60.)\n",
    "            print(f\"dictn: {dictn}\")\n",
    "\n",
    "            # --------- Phonopy\n",
    "            print('Dynamical matrix calculation begins, please wait')\n",
    "            dir_path =  simulations_path_vacancies + f'vacancy_{defect}%/' +  f\"NiTi_T_{temp}_L_{lat_par:.2f}/\"\n",
    "            input_file_path = dir_path + 'atoms_positions.data'\n",
    "            output_file_path = dir_path + 'input.txt'\n",
    "            n_atom_type1, n_atom_type2 = reorder_and_renumber_atoms(input_file_path, output_file_path)\n",
    "            write_poscar(poscar_data, lat_par, path=dir_path, filename='POSCAR')\n",
    "            command_copy_phonopy_files = f'cp {input_files_phonopy}'+'band.conf' '  ' f'{dir_path}' '&&' f' cp {input_files_phonopy}' + 'mesh.conf ' '  ' f'{dir_path}'\n",
    "            os.system(command_copy_phonopy_files)   \n",
    "            generate_force_constants_and_run_phonopy(dir_path,natoms,lat_par*system_size,lat_par,n_atom_type1,n_atom_type2,0,1,root=\"NiTi_bcc\") "
   ]
  },
  {
   "cell_type": "code",
   "execution_count": null,
   "id": "b16e42ac-a757-43f4-877f-d276bb69d2ce",
   "metadata": {},
   "outputs": [],
   "source": []
  }
 ],
 "metadata": {
  "kernelspec": {
   "display_name": "NERSC Python",
   "language": "python",
   "name": "python3"
  },
  "language_info": {
   "codemirror_mode": {
    "name": "ipython",
    "version": 3
   },
   "file_extension": ".py",
   "mimetype": "text/x-python",
   "name": "python",
   "nbconvert_exporter": "python",
   "pygments_lexer": "ipython3",
   "version": "3.11.7"
  }
 },
 "nbformat": 4,
 "nbformat_minor": 5
}
